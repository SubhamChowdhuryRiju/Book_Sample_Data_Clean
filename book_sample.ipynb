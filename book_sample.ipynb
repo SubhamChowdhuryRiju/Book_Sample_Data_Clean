{
 "cells": [
  {
   "cell_type": "code",
   "execution_count": 296,
   "metadata": {},
   "outputs": [],
   "source": [
    "import pandas as pd \n",
    "import numpy as np "
   ]
  },
  {
   "cell_type": "code",
   "execution_count": 297,
   "metadata": {},
   "outputs": [
    {
     "data": {
      "text/html": [
       "<div>\n",
       "<style scoped>\n",
       "    .dataframe tbody tr th:only-of-type {\n",
       "        vertical-align: middle;\n",
       "    }\n",
       "\n",
       "    .dataframe tbody tr th {\n",
       "        vertical-align: top;\n",
       "    }\n",
       "\n",
       "    .dataframe thead th {\n",
       "        text-align: right;\n",
       "    }\n",
       "</style>\n",
       "<table border=\"1\" class=\"dataframe\">\n",
       "  <thead>\n",
       "    <tr style=\"text-align: right;\">\n",
       "      <th></th>\n",
       "      <th>4.40</th>\n",
       "      <th>136455</th>\n",
       "      <th>0439023483</th>\n",
       "      <th>good_reads:book</th>\n",
       "      <th>https://www.goodreads.com/author/show/153394.Suzanne_Collins</th>\n",
       "      <th>2008</th>\n",
       "      <th>/genres/young-adult|/genres/science-fiction|/genres/dystopia|/genres/fantasy|/genres/science-fiction|/genres/romance|/genres/adventure|/genres/book-club|/genres/young-adult|/genres/teen|/genres/apocalyptic|/genres/post-apocalyptic|/genres/action</th>\n",
       "      <th>dir01/2767052-the-hunger-games.html</th>\n",
       "      <th>2958974</th>\n",
       "      <th>The Hunger Games (The Hunger Games, #1)</th>\n",
       "    </tr>\n",
       "  </thead>\n",
       "  <tbody>\n",
       "    <tr>\n",
       "      <th>0</th>\n",
       "      <td>4.41</td>\n",
       "      <td>16648.0</td>\n",
       "      <td>0439358078</td>\n",
       "      <td>good_reads:book</td>\n",
       "      <td>https://www.goodreads.com/author/show/1077326....</td>\n",
       "      <td>2003.0</td>\n",
       "      <td>/genres/fantasy|/genres/young-adult|/genres/fi...</td>\n",
       "      <td>dir01/2.Harry_Potter_and_the_Order_of_the_Phoe...</td>\n",
       "      <td>1284478.0</td>\n",
       "      <td>Harry Potter and the Order of the Phoenix (Har...</td>\n",
       "    </tr>\n",
       "    <tr>\n",
       "      <th>1</th>\n",
       "      <td>3.56</td>\n",
       "      <td>85746.0</td>\n",
       "      <td>0316015849</td>\n",
       "      <td>good_reads:book</td>\n",
       "      <td>https://www.goodreads.com/author/show/941441.S...</td>\n",
       "      <td>2005.0</td>\n",
       "      <td>/genres/young-adult|/genres/fantasy|/genres/ro...</td>\n",
       "      <td>dir01/41865.Twilight.html</td>\n",
       "      <td>2579564.0</td>\n",
       "      <td>Twilight (Twilight, #1)</td>\n",
       "    </tr>\n",
       "    <tr>\n",
       "      <th>2</th>\n",
       "      <td>4.23</td>\n",
       "      <td>47906.0</td>\n",
       "      <td>0061120081</td>\n",
       "      <td>good_reads:book</td>\n",
       "      <td>https://www.goodreads.com/author/show/1825.Har...</td>\n",
       "      <td>1960.0</td>\n",
       "      <td>/genres/classics|/genres/fiction|/genres/histo...</td>\n",
       "      <td>dir01/2657.To_Kill_a_Mockingbird.html</td>\n",
       "      <td>2078123.0</td>\n",
       "      <td>To Kill a Mockingbird</td>\n",
       "    </tr>\n",
       "    <tr>\n",
       "      <th>3</th>\n",
       "      <td>4.23</td>\n",
       "      <td>34772.0</td>\n",
       "      <td>0679783261</td>\n",
       "      <td>good_reads:book</td>\n",
       "      <td>https://www.goodreads.com/author/show/1265.Jan...</td>\n",
       "      <td>1813.0</td>\n",
       "      <td>/genres/classics|/genres/fiction|/genres/roman...</td>\n",
       "      <td>dir01/1885.Pride_and_Prejudice.html</td>\n",
       "      <td>1388992.0</td>\n",
       "      <td>Pride and Prejudice</td>\n",
       "    </tr>\n",
       "    <tr>\n",
       "      <th>4</th>\n",
       "      <td>4.25</td>\n",
       "      <td>12363.0</td>\n",
       "      <td>0446675539</td>\n",
       "      <td>good_reads:book</td>\n",
       "      <td>https://www.goodreads.com/author/show/11081.Ma...</td>\n",
       "      <td>1936.0</td>\n",
       "      <td>/genres/classics|/genres/historical-fiction|/g...</td>\n",
       "      <td>dir01/18405.Gone_with_the_Wind.html</td>\n",
       "      <td>645470.0</td>\n",
       "      <td>Gone with the Wind</td>\n",
       "    </tr>\n",
       "  </tbody>\n",
       "</table>\n",
       "</div>"
      ],
      "text/plain": [
       "   4.40   136455  0439023483  good_reads:book  \\\n",
       "0  4.41  16648.0  0439358078  good_reads:book   \n",
       "1  3.56  85746.0  0316015849  good_reads:book   \n",
       "2  4.23  47906.0  0061120081  good_reads:book   \n",
       "3  4.23  34772.0  0679783261  good_reads:book   \n",
       "4  4.25  12363.0  0446675539  good_reads:book   \n",
       "\n",
       "  https://www.goodreads.com/author/show/153394.Suzanne_Collins    2008  \\\n",
       "0  https://www.goodreads.com/author/show/1077326....            2003.0   \n",
       "1  https://www.goodreads.com/author/show/941441.S...            2005.0   \n",
       "2  https://www.goodreads.com/author/show/1825.Har...            1960.0   \n",
       "3  https://www.goodreads.com/author/show/1265.Jan...            1813.0   \n",
       "4  https://www.goodreads.com/author/show/11081.Ma...            1936.0   \n",
       "\n",
       "  /genres/young-adult|/genres/science-fiction|/genres/dystopia|/genres/fantasy|/genres/science-fiction|/genres/romance|/genres/adventure|/genres/book-club|/genres/young-adult|/genres/teen|/genres/apocalyptic|/genres/post-apocalyptic|/genres/action  \\\n",
       "0  /genres/fantasy|/genres/young-adult|/genres/fi...                                                                                                                                                                                                      \n",
       "1  /genres/young-adult|/genres/fantasy|/genres/ro...                                                                                                                                                                                                      \n",
       "2  /genres/classics|/genres/fiction|/genres/histo...                                                                                                                                                                                                      \n",
       "3  /genres/classics|/genres/fiction|/genres/roman...                                                                                                                                                                                                      \n",
       "4  /genres/classics|/genres/historical-fiction|/g...                                                                                                                                                                                                      \n",
       "\n",
       "                 dir01/2767052-the-hunger-games.html    2958974  \\\n",
       "0  dir01/2.Harry_Potter_and_the_Order_of_the_Phoe...  1284478.0   \n",
       "1                          dir01/41865.Twilight.html  2579564.0   \n",
       "2              dir01/2657.To_Kill_a_Mockingbird.html  2078123.0   \n",
       "3                dir01/1885.Pride_and_Prejudice.html  1388992.0   \n",
       "4                dir01/18405.Gone_with_the_Wind.html   645470.0   \n",
       "\n",
       "             The Hunger Games (The Hunger Games, #1)  \n",
       "0  Harry Potter and the Order of the Phoenix (Har...  \n",
       "1                            Twilight (Twilight, #1)  \n",
       "2                              To Kill a Mockingbird  \n",
       "3                                Pride and Prejudice  \n",
       "4                                 Gone with the Wind  "
      ]
     },
     "execution_count": 297,
     "metadata": {},
     "output_type": "execute_result"
    }
   ],
   "source": [
    "df = pd.read_csv('goodreads.csv')\n",
    "df.head()"
   ]
  },
  {
   "cell_type": "code",
   "execution_count": 298,
   "metadata": {},
   "outputs": [],
   "source": [
    "# As the dataset has no column names so better to give the names \n",
    "columns = ['Rating', \n",
    "           'Publication Cost', \n",
    "           'ISBN',\n",
    "           'Good Reads', \n",
    "           'Book URL', \n",
    "           'Year', \n",
    "           'Genres', \n",
    "           'Link', \n",
    "           'Total Revenue', \n",
    "           'Book Title']\n",
    "df = pd.read_csv('goodreads.csv', names=columns)"
   ]
  },
  {
   "cell_type": "code",
   "execution_count": 299,
   "metadata": {},
   "outputs": [
    {
     "data": {
      "text/html": [
       "<div>\n",
       "<style scoped>\n",
       "    .dataframe tbody tr th:only-of-type {\n",
       "        vertical-align: middle;\n",
       "    }\n",
       "\n",
       "    .dataframe tbody tr th {\n",
       "        vertical-align: top;\n",
       "    }\n",
       "\n",
       "    .dataframe thead th {\n",
       "        text-align: right;\n",
       "    }\n",
       "</style>\n",
       "<table border=\"1\" class=\"dataframe\">\n",
       "  <thead>\n",
       "    <tr style=\"text-align: right;\">\n",
       "      <th></th>\n",
       "      <th>Rating</th>\n",
       "      <th>Publication Cost</th>\n",
       "      <th>ISBN</th>\n",
       "      <th>Good Reads</th>\n",
       "      <th>Book URL</th>\n",
       "      <th>Year</th>\n",
       "      <th>Genres</th>\n",
       "      <th>Link</th>\n",
       "      <th>Total Revenue</th>\n",
       "      <th>Book Title</th>\n",
       "    </tr>\n",
       "  </thead>\n",
       "  <tbody>\n",
       "    <tr>\n",
       "      <th>0</th>\n",
       "      <td>4.40</td>\n",
       "      <td>136455.0</td>\n",
       "      <td>0439023483</td>\n",
       "      <td>good_reads:book</td>\n",
       "      <td>https://www.goodreads.com/author/show/153394.S...</td>\n",
       "      <td>2008.0</td>\n",
       "      <td>/genres/young-adult|/genres/science-fiction|/g...</td>\n",
       "      <td>dir01/2767052-the-hunger-games.html</td>\n",
       "      <td>2958974.0</td>\n",
       "      <td>The Hunger Games (The Hunger Games, #1)</td>\n",
       "    </tr>\n",
       "    <tr>\n",
       "      <th>1</th>\n",
       "      <td>4.41</td>\n",
       "      <td>16648.0</td>\n",
       "      <td>0439358078</td>\n",
       "      <td>good_reads:book</td>\n",
       "      <td>https://www.goodreads.com/author/show/1077326....</td>\n",
       "      <td>2003.0</td>\n",
       "      <td>/genres/fantasy|/genres/young-adult|/genres/fi...</td>\n",
       "      <td>dir01/2.Harry_Potter_and_the_Order_of_the_Phoe...</td>\n",
       "      <td>1284478.0</td>\n",
       "      <td>Harry Potter and the Order of the Phoenix (Har...</td>\n",
       "    </tr>\n",
       "    <tr>\n",
       "      <th>2</th>\n",
       "      <td>3.56</td>\n",
       "      <td>85746.0</td>\n",
       "      <td>0316015849</td>\n",
       "      <td>good_reads:book</td>\n",
       "      <td>https://www.goodreads.com/author/show/941441.S...</td>\n",
       "      <td>2005.0</td>\n",
       "      <td>/genres/young-adult|/genres/fantasy|/genres/ro...</td>\n",
       "      <td>dir01/41865.Twilight.html</td>\n",
       "      <td>2579564.0</td>\n",
       "      <td>Twilight (Twilight, #1)</td>\n",
       "    </tr>\n",
       "    <tr>\n",
       "      <th>3</th>\n",
       "      <td>4.23</td>\n",
       "      <td>47906.0</td>\n",
       "      <td>0061120081</td>\n",
       "      <td>good_reads:book</td>\n",
       "      <td>https://www.goodreads.com/author/show/1825.Har...</td>\n",
       "      <td>1960.0</td>\n",
       "      <td>/genres/classics|/genres/fiction|/genres/histo...</td>\n",
       "      <td>dir01/2657.To_Kill_a_Mockingbird.html</td>\n",
       "      <td>2078123.0</td>\n",
       "      <td>To Kill a Mockingbird</td>\n",
       "    </tr>\n",
       "    <tr>\n",
       "      <th>4</th>\n",
       "      <td>4.23</td>\n",
       "      <td>34772.0</td>\n",
       "      <td>0679783261</td>\n",
       "      <td>good_reads:book</td>\n",
       "      <td>https://www.goodreads.com/author/show/1265.Jan...</td>\n",
       "      <td>1813.0</td>\n",
       "      <td>/genres/classics|/genres/fiction|/genres/roman...</td>\n",
       "      <td>dir01/1885.Pride_and_Prejudice.html</td>\n",
       "      <td>1388992.0</td>\n",
       "      <td>Pride and Prejudice</td>\n",
       "    </tr>\n",
       "  </tbody>\n",
       "</table>\n",
       "</div>"
      ],
      "text/plain": [
       "   Rating  Publication Cost        ISBN       Good Reads  \\\n",
       "0    4.40          136455.0  0439023483  good_reads:book   \n",
       "1    4.41           16648.0  0439358078  good_reads:book   \n",
       "2    3.56           85746.0  0316015849  good_reads:book   \n",
       "3    4.23           47906.0  0061120081  good_reads:book   \n",
       "4    4.23           34772.0  0679783261  good_reads:book   \n",
       "\n",
       "                                            Book URL    Year  \\\n",
       "0  https://www.goodreads.com/author/show/153394.S...  2008.0   \n",
       "1  https://www.goodreads.com/author/show/1077326....  2003.0   \n",
       "2  https://www.goodreads.com/author/show/941441.S...  2005.0   \n",
       "3  https://www.goodreads.com/author/show/1825.Har...  1960.0   \n",
       "4  https://www.goodreads.com/author/show/1265.Jan...  1813.0   \n",
       "\n",
       "                                              Genres  \\\n",
       "0  /genres/young-adult|/genres/science-fiction|/g...   \n",
       "1  /genres/fantasy|/genres/young-adult|/genres/fi...   \n",
       "2  /genres/young-adult|/genres/fantasy|/genres/ro...   \n",
       "3  /genres/classics|/genres/fiction|/genres/histo...   \n",
       "4  /genres/classics|/genres/fiction|/genres/roman...   \n",
       "\n",
       "                                                Link  Total Revenue  \\\n",
       "0                dir01/2767052-the-hunger-games.html      2958974.0   \n",
       "1  dir01/2.Harry_Potter_and_the_Order_of_the_Phoe...      1284478.0   \n",
       "2                          dir01/41865.Twilight.html      2579564.0   \n",
       "3              dir01/2657.To_Kill_a_Mockingbird.html      2078123.0   \n",
       "4                dir01/1885.Pride_and_Prejudice.html      1388992.0   \n",
       "\n",
       "                                          Book Title  \n",
       "0            The Hunger Games (The Hunger Games, #1)  \n",
       "1  Harry Potter and the Order of the Phoenix (Har...  \n",
       "2                            Twilight (Twilight, #1)  \n",
       "3                              To Kill a Mockingbird  \n",
       "4                                Pride and Prejudice  "
      ]
     },
     "execution_count": 299,
     "metadata": {},
     "output_type": "execute_result"
    }
   ],
   "source": [
    "df.head()"
   ]
  },
  {
   "cell_type": "code",
   "execution_count": 300,
   "metadata": {},
   "outputs": [
    {
     "name": "stdout",
     "output_type": "stream",
     "text": [
      "<class 'pandas.core.frame.DataFrame'>\n",
      "RangeIndex: 6000 entries, 0 to 5999\n",
      "Data columns (total 10 columns):\n",
      " #   Column            Non-Null Count  Dtype  \n",
      "---  ------            --------------  -----  \n",
      " 0   Rating            5998 non-null   float64\n",
      " 1   Publication Cost  5998 non-null   float64\n",
      " 2   ISBN              5523 non-null   object \n",
      " 3   Good Reads        5998 non-null   object \n",
      " 4   Book URL          5998 non-null   object \n",
      " 5   Year              5993 non-null   float64\n",
      " 6   Genres            5938 non-null   object \n",
      " 7   Link              6000 non-null   object \n",
      " 8   Total Revenue     5998 non-null   float64\n",
      " 9   Book Title        5998 non-null   object \n",
      "dtypes: float64(4), object(6)\n",
      "memory usage: 468.9+ KB\n"
     ]
    }
   ],
   "source": [
    "df.info()"
   ]
  },
  {
   "cell_type": "code",
   "execution_count": 301,
   "metadata": {},
   "outputs": [
    {
     "data": {
      "text/plain": [
       "Rating                2\n",
       "Publication Cost      2\n",
       "ISBN                477\n",
       "Good Reads            2\n",
       "Book URL              2\n",
       "Year                  7\n",
       "Genres               62\n",
       "Link                  0\n",
       "Total Revenue         2\n",
       "Book Title            2\n",
       "dtype: int64"
      ]
     },
     "execution_count": 301,
     "metadata": {},
     "output_type": "execute_result"
    }
   ],
   "source": [
    "df.isna().sum()"
   ]
  },
  {
   "cell_type": "code",
   "execution_count": 302,
   "metadata": {},
   "outputs": [
    {
     "data": {
      "text/plain": [
       "558"
      ]
     },
     "execution_count": 302,
     "metadata": {},
     "output_type": "execute_result"
    }
   ],
   "source": [
    "df.isna().sum().sum()"
   ]
  },
  {
   "cell_type": "markdown",
   "metadata": {},
   "source": [
    "# Rating Column"
   ]
  },
  {
   "cell_type": "code",
   "execution_count": 303,
   "metadata": {},
   "outputs": [
    {
     "data": {
      "text/plain": [
       "2"
      ]
     },
     "execution_count": 303,
     "metadata": {},
     "output_type": "execute_result"
    }
   ],
   "source": [
    "df['Rating'].isna().sum()"
   ]
  },
  {
   "cell_type": "code",
   "execution_count": 304,
   "metadata": {},
   "outputs": [
    {
     "data": {
      "text/plain": [
       "(2.0, 5.0)"
      ]
     },
     "execution_count": 304,
     "metadata": {},
     "output_type": "execute_result"
    }
   ],
   "source": [
    "df['Rating'].min(), df['Rating'].max()"
   ]
  },
  {
   "cell_type": "code",
   "execution_count": 305,
   "metadata": {},
   "outputs": [],
   "source": [
    "# Replacing or Filling the Null values with the Mean  of that Column\n",
    "df['Rating'].fillna(df['Rating'].mean(), inplace=True)"
   ]
  },
  {
   "cell_type": "markdown",
   "metadata": {},
   "source": [
    "# Publication Cost"
   ]
  },
  {
   "cell_type": "code",
   "execution_count": 306,
   "metadata": {},
   "outputs": [
    {
     "data": {
      "text/plain": [
       "2"
      ]
     },
     "execution_count": 306,
     "metadata": {},
     "output_type": "execute_result"
    }
   ],
   "source": [
    "df['Publication Cost'].isna().sum()"
   ]
  },
  {
   "cell_type": "code",
   "execution_count": 307,
   "metadata": {},
   "outputs": [],
   "source": [
    "# Replacing or Filling the Null values with the Mean  of the Column\n",
    "df['Publication Cost'].fillna(df['Publication Cost'].mean(), inplace=True)"
   ]
  },
  {
   "cell_type": "markdown",
   "metadata": {},
   "source": [
    "# ISBN Column"
   ]
  },
  {
   "cell_type": "code",
   "execution_count": 308,
   "metadata": {},
   "outputs": [
    {
     "data": {
      "text/plain": [
       "477"
      ]
     },
     "execution_count": 308,
     "metadata": {},
     "output_type": "execute_result"
    }
   ],
   "source": [
    "df['ISBN'].isna().sum()"
   ]
  },
  {
   "cell_type": "code",
   "execution_count": 309,
   "metadata": {},
   "outputs": [],
   "source": [
    "# As the Datatype of 'ISBN' is Object so it can't perform mean \n",
    "# so just replacing ISBN with 'Unknown'\n",
    "df['ISBN'].fillna('Unknown', inplace=True)"
   ]
  },
  {
   "cell_type": "markdown",
   "metadata": {},
   "source": [
    "# Good Reads Column"
   ]
  },
  {
   "cell_type": "code",
   "execution_count": 310,
   "metadata": {},
   "outputs": [
    {
     "data": {
      "text/plain": [
       "array(['good_reads:book', nan], dtype=object)"
      ]
     },
     "execution_count": 310,
     "metadata": {},
     "output_type": "execute_result"
    }
   ],
   "source": [
    "df['Good Reads'].unique()"
   ]
  },
  {
   "cell_type": "code",
   "execution_count": 311,
   "metadata": {},
   "outputs": [],
   "source": [
    "# No need of this column\n",
    "df.drop(columns=['Good Reads'], inplace=True)"
   ]
  },
  {
   "cell_type": "code",
   "execution_count": 312,
   "metadata": {},
   "outputs": [
    {
     "data": {
      "text/html": [
       "<div>\n",
       "<style scoped>\n",
       "    .dataframe tbody tr th:only-of-type {\n",
       "        vertical-align: middle;\n",
       "    }\n",
       "\n",
       "    .dataframe tbody tr th {\n",
       "        vertical-align: top;\n",
       "    }\n",
       "\n",
       "    .dataframe thead th {\n",
       "        text-align: right;\n",
       "    }\n",
       "</style>\n",
       "<table border=\"1\" class=\"dataframe\">\n",
       "  <thead>\n",
       "    <tr style=\"text-align: right;\">\n",
       "      <th></th>\n",
       "      <th>Rating</th>\n",
       "      <th>Publication Cost</th>\n",
       "      <th>ISBN</th>\n",
       "      <th>Book URL</th>\n",
       "      <th>Year</th>\n",
       "      <th>Genres</th>\n",
       "      <th>Link</th>\n",
       "      <th>Total Revenue</th>\n",
       "      <th>Book Title</th>\n",
       "    </tr>\n",
       "  </thead>\n",
       "  <tbody>\n",
       "    <tr>\n",
       "      <th>0</th>\n",
       "      <td>4.40</td>\n",
       "      <td>136455.0</td>\n",
       "      <td>0439023483</td>\n",
       "      <td>https://www.goodreads.com/author/show/153394.S...</td>\n",
       "      <td>2008.0</td>\n",
       "      <td>/genres/young-adult|/genres/science-fiction|/g...</td>\n",
       "      <td>dir01/2767052-the-hunger-games.html</td>\n",
       "      <td>2958974.0</td>\n",
       "      <td>The Hunger Games (The Hunger Games, #1)</td>\n",
       "    </tr>\n",
       "    <tr>\n",
       "      <th>1</th>\n",
       "      <td>4.41</td>\n",
       "      <td>16648.0</td>\n",
       "      <td>0439358078</td>\n",
       "      <td>https://www.goodreads.com/author/show/1077326....</td>\n",
       "      <td>2003.0</td>\n",
       "      <td>/genres/fantasy|/genres/young-adult|/genres/fi...</td>\n",
       "      <td>dir01/2.Harry_Potter_and_the_Order_of_the_Phoe...</td>\n",
       "      <td>1284478.0</td>\n",
       "      <td>Harry Potter and the Order of the Phoenix (Har...</td>\n",
       "    </tr>\n",
       "  </tbody>\n",
       "</table>\n",
       "</div>"
      ],
      "text/plain": [
       "   Rating  Publication Cost        ISBN  \\\n",
       "0    4.40          136455.0  0439023483   \n",
       "1    4.41           16648.0  0439358078   \n",
       "\n",
       "                                            Book URL    Year  \\\n",
       "0  https://www.goodreads.com/author/show/153394.S...  2008.0   \n",
       "1  https://www.goodreads.com/author/show/1077326....  2003.0   \n",
       "\n",
       "                                              Genres  \\\n",
       "0  /genres/young-adult|/genres/science-fiction|/g...   \n",
       "1  /genres/fantasy|/genres/young-adult|/genres/fi...   \n",
       "\n",
       "                                                Link  Total Revenue  \\\n",
       "0                dir01/2767052-the-hunger-games.html      2958974.0   \n",
       "1  dir01/2.Harry_Potter_and_the_Order_of_the_Phoe...      1284478.0   \n",
       "\n",
       "                                          Book Title  \n",
       "0            The Hunger Games (The Hunger Games, #1)  \n",
       "1  Harry Potter and the Order of the Phoenix (Har...  "
      ]
     },
     "execution_count": 312,
     "metadata": {},
     "output_type": "execute_result"
    }
   ],
   "source": [
    "df.head(2)"
   ]
  },
  {
   "cell_type": "markdown",
   "metadata": {},
   "source": [
    "# Book URL Column"
   ]
  },
  {
   "cell_type": "code",
   "execution_count": 313,
   "metadata": {},
   "outputs": [
    {
     "data": {
      "text/plain": [
       "2"
      ]
     },
     "execution_count": 313,
     "metadata": {},
     "output_type": "execute_result"
    }
   ],
   "source": [
    "df['Book URL'].isna().sum()"
   ]
  },
  {
   "cell_type": "code",
   "execution_count": 314,
   "metadata": {},
   "outputs": [],
   "source": [
    "# As the Datatype of 'Book URL' is Object so it can't perform mean \n",
    "# so just replacing Book URL with 'Unknown'\n",
    "df['Book URL'].fillna('Unknown', inplace=True)"
   ]
  },
  {
   "cell_type": "markdown",
   "metadata": {},
   "source": [
    "# Year Column"
   ]
  },
  {
   "cell_type": "code",
   "execution_count": 315,
   "metadata": {},
   "outputs": [
    {
     "data": {
      "text/plain": [
       "7"
      ]
     },
     "execution_count": 315,
     "metadata": {},
     "output_type": "execute_result"
    }
   ],
   "source": [
    "df['Year'].isna().sum()"
   ]
  },
  {
   "cell_type": "code",
   "execution_count": 316,
   "metadata": {},
   "outputs": [],
   "source": [
    "# Replacing or Filling the Null values with the Mean  of the Column\n",
    "df['Year'].fillna(df['Year'].mean(), inplace=True)"
   ]
  },
  {
   "cell_type": "code",
   "execution_count": 317,
   "metadata": {},
   "outputs": [],
   "source": [
    "# Changing the datatype of Year from float to int\n",
    "df['Year'] = df['Year'].astype('int')"
   ]
  },
  {
   "cell_type": "markdown",
   "metadata": {},
   "source": [
    "# Genres Column"
   ]
  },
  {
   "cell_type": "code",
   "execution_count": 318,
   "metadata": {},
   "outputs": [
    {
     "data": {
      "text/plain": [
       "62"
      ]
     },
     "execution_count": 318,
     "metadata": {},
     "output_type": "execute_result"
    }
   ],
   "source": [
    "df['Genres'].isna().sum()"
   ]
  },
  {
   "cell_type": "code",
   "execution_count": 319,
   "metadata": {},
   "outputs": [],
   "source": [
    "# As Genres is also a object and we will perform some patterns \n",
    "# so it's better to replace Null values with the any of the row value\n",
    "# Here I'm taking the First Value\n",
    "first = df['Genres'].iloc[0]\n",
    "df['Genres'].fillna(first, inplace=True)"
   ]
  },
  {
   "cell_type": "code",
   "execution_count": 320,
   "metadata": {},
   "outputs": [],
   "source": [
    "# Here the logic comes to extract the genres from each df['Genres] row\n",
    "def extract_genres(string):\n",
    "    genre_list = [g.split('/')[-1] for g in string.split('|')]\n",
    "    return ', '.join(genre_list)"
   ]
  },
  {
   "cell_type": "code",
   "execution_count": 321,
   "metadata": {},
   "outputs": [],
   "source": [
    "# Now just applying the logic to the each data of the column of df['Genres]\n",
    "df['Genres'] = df['Genres'].apply(extract_genres)"
   ]
  },
  {
   "cell_type": "code",
   "execution_count": 322,
   "metadata": {},
   "outputs": [
    {
     "data": {
      "text/plain": [
       "0    young-adult, science-fiction, dystopia, fantas...\n",
       "1    fantasy, young-adult, fiction, fantasy, magic,...\n",
       "2    young-adult, fantasy, romance, paranormal, vam...\n",
       "3    classics, fiction, historical-fiction, academi...\n",
       "Name: Genres, dtype: object"
      ]
     },
     "execution_count": 322,
     "metadata": {},
     "output_type": "execute_result"
    }
   ],
   "source": [
    "df['Genres'].head(4)"
   ]
  },
  {
   "cell_type": "markdown",
   "metadata": {},
   "source": [
    "# Total Revenue Column"
   ]
  },
  {
   "cell_type": "code",
   "execution_count": 323,
   "metadata": {},
   "outputs": [
    {
     "data": {
      "text/plain": [
       "2"
      ]
     },
     "execution_count": 323,
     "metadata": {},
     "output_type": "execute_result"
    }
   ],
   "source": [
    "df['Total Revenue'].isna().sum()"
   ]
  },
  {
   "cell_type": "code",
   "execution_count": 324,
   "metadata": {},
   "outputs": [],
   "source": [
    "# Replacing or Filling the Null values with the Mean  of the Column\n",
    "df['Total Revenue'].fillna(df['Total Revenue'].mean(), inplace=True)"
   ]
  },
  {
   "cell_type": "markdown",
   "metadata": {},
   "source": [
    "# Book Titile Column"
   ]
  },
  {
   "cell_type": "code",
   "execution_count": 325,
   "metadata": {},
   "outputs": [
    {
     "data": {
      "text/plain": [
       "2"
      ]
     },
     "execution_count": 325,
     "metadata": {},
     "output_type": "execute_result"
    }
   ],
   "source": [
    "df['Book Title'].isna().sum()"
   ]
  },
  {
   "cell_type": "code",
   "execution_count": 326,
   "metadata": {},
   "outputs": [],
   "source": [
    "# If we don't know the Book title so no use of the other information \n",
    "# so it's better to drop the Null values \n",
    "df.dropna(subset=['Book Title'], inplace=True)"
   ]
  },
  {
   "cell_type": "code",
   "execution_count": 327,
   "metadata": {},
   "outputs": [
    {
     "data": {
      "text/plain": [
       "5995                                   The River of Doubt\n",
       "5996                                                 Shug\n",
       "5997                                               Flawed\n",
       "5998                Ø£Ø³Ø¹Ø¯ Ø§Ù\n",
       "Ø±Ø£Ø© ÙÙ Ø§ÙØ¹Ø§ÙÙ\n",
       "\n",
       "5999    Legacy of the Drow Collector's Edition (Legacy...\n",
       "Name: Book Title, dtype: object"
      ]
     },
     "execution_count": 327,
     "metadata": {},
     "output_type": "execute_result"
    }
   ],
   "source": [
    "df['Book Title'].tail()"
   ]
  },
  {
   "cell_type": "code",
   "execution_count": 328,
   "metadata": {},
   "outputs": [],
   "source": [
    "# As we can't determine the 2nd last value so better to drop the row\n",
    "df.drop(df.index[-2], inplace=True)"
   ]
  },
  {
   "cell_type": "markdown",
   "metadata": {},
   "source": [
    "# Arranging the Columns"
   ]
  },
  {
   "cell_type": "code",
   "execution_count": 329,
   "metadata": {},
   "outputs": [],
   "source": [
    "arrange_columns = ['Rating', \n",
    "           'Publication Cost', \n",
    "           'ISBN', \n",
    "           'Book Title', \n",
    "           'Year', \n",
    "           'Genres', \n",
    "           'Link', \n",
    "           'Total Revenue', \n",
    "           'Book URL']\n",
    "\n",
    "df = df[arrange_columns]"
   ]
  },
  {
   "cell_type": "code",
   "execution_count": 334,
   "metadata": {},
   "outputs": [],
   "source": [
    "# Reseting the index\n",
    "df.reset_index(drop=True, inplace=True)"
   ]
  },
  {
   "cell_type": "code",
   "execution_count": 335,
   "metadata": {},
   "outputs": [
    {
     "data": {
      "text/html": [
       "<div>\n",
       "<style scoped>\n",
       "    .dataframe tbody tr th:only-of-type {\n",
       "        vertical-align: middle;\n",
       "    }\n",
       "\n",
       "    .dataframe tbody tr th {\n",
       "        vertical-align: top;\n",
       "    }\n",
       "\n",
       "    .dataframe thead th {\n",
       "        text-align: right;\n",
       "    }\n",
       "</style>\n",
       "<table border=\"1\" class=\"dataframe\">\n",
       "  <thead>\n",
       "    <tr style=\"text-align: right;\">\n",
       "      <th></th>\n",
       "      <th>Rating</th>\n",
       "      <th>Publication Cost</th>\n",
       "      <th>ISBN</th>\n",
       "      <th>Book Title</th>\n",
       "      <th>Year</th>\n",
       "      <th>Genres</th>\n",
       "      <th>Link</th>\n",
       "      <th>Total Revenue</th>\n",
       "      <th>Book URL</th>\n",
       "    </tr>\n",
       "  </thead>\n",
       "  <tbody>\n",
       "    <tr>\n",
       "      <th>0</th>\n",
       "      <td>4.40</td>\n",
       "      <td>136455.0</td>\n",
       "      <td>0439023483</td>\n",
       "      <td>The Hunger Games (The Hunger Games, #1)</td>\n",
       "      <td>2008</td>\n",
       "      <td>young-adult, science-fiction, dystopia, fantas...</td>\n",
       "      <td>dir01/2767052-the-hunger-games.html</td>\n",
       "      <td>2958974.0</td>\n",
       "      <td>https://www.goodreads.com/author/show/153394.S...</td>\n",
       "    </tr>\n",
       "    <tr>\n",
       "      <th>1</th>\n",
       "      <td>4.41</td>\n",
       "      <td>16648.0</td>\n",
       "      <td>0439358078</td>\n",
       "      <td>Harry Potter and the Order of the Phoenix (Har...</td>\n",
       "      <td>2003</td>\n",
       "      <td>fantasy, young-adult, fiction, fantasy, magic,...</td>\n",
       "      <td>dir01/2.Harry_Potter_and_the_Order_of_the_Phoe...</td>\n",
       "      <td>1284478.0</td>\n",
       "      <td>https://www.goodreads.com/author/show/1077326....</td>\n",
       "    </tr>\n",
       "    <tr>\n",
       "      <th>2</th>\n",
       "      <td>3.56</td>\n",
       "      <td>85746.0</td>\n",
       "      <td>0316015849</td>\n",
       "      <td>Twilight (Twilight, #1)</td>\n",
       "      <td>2005</td>\n",
       "      <td>young-adult, fantasy, romance, paranormal, vam...</td>\n",
       "      <td>dir01/41865.Twilight.html</td>\n",
       "      <td>2579564.0</td>\n",
       "      <td>https://www.goodreads.com/author/show/941441.S...</td>\n",
       "    </tr>\n",
       "    <tr>\n",
       "      <th>3</th>\n",
       "      <td>4.23</td>\n",
       "      <td>47906.0</td>\n",
       "      <td>0061120081</td>\n",
       "      <td>To Kill a Mockingbird</td>\n",
       "      <td>1960</td>\n",
       "      <td>classics, fiction, historical-fiction, academi...</td>\n",
       "      <td>dir01/2657.To_Kill_a_Mockingbird.html</td>\n",
       "      <td>2078123.0</td>\n",
       "      <td>https://www.goodreads.com/author/show/1825.Har...</td>\n",
       "    </tr>\n",
       "    <tr>\n",
       "      <th>4</th>\n",
       "      <td>4.23</td>\n",
       "      <td>34772.0</td>\n",
       "      <td>0679783261</td>\n",
       "      <td>Pride and Prejudice</td>\n",
       "      <td>1813</td>\n",
       "      <td>classics, fiction, romance, historical-fiction...</td>\n",
       "      <td>dir01/1885.Pride_and_Prejudice.html</td>\n",
       "      <td>1388992.0</td>\n",
       "      <td>https://www.goodreads.com/author/show/1265.Jan...</td>\n",
       "    </tr>\n",
       "  </tbody>\n",
       "</table>\n",
       "</div>"
      ],
      "text/plain": [
       "   Rating  Publication Cost        ISBN  \\\n",
       "0    4.40          136455.0  0439023483   \n",
       "1    4.41           16648.0  0439358078   \n",
       "2    3.56           85746.0  0316015849   \n",
       "3    4.23           47906.0  0061120081   \n",
       "4    4.23           34772.0  0679783261   \n",
       "\n",
       "                                          Book Title  Year  \\\n",
       "0            The Hunger Games (The Hunger Games, #1)  2008   \n",
       "1  Harry Potter and the Order of the Phoenix (Har...  2003   \n",
       "2                            Twilight (Twilight, #1)  2005   \n",
       "3                              To Kill a Mockingbird  1960   \n",
       "4                                Pride and Prejudice  1813   \n",
       "\n",
       "                                              Genres  \\\n",
       "0  young-adult, science-fiction, dystopia, fantas...   \n",
       "1  fantasy, young-adult, fiction, fantasy, magic,...   \n",
       "2  young-adult, fantasy, romance, paranormal, vam...   \n",
       "3  classics, fiction, historical-fiction, academi...   \n",
       "4  classics, fiction, romance, historical-fiction...   \n",
       "\n",
       "                                                Link  Total Revenue  \\\n",
       "0                dir01/2767052-the-hunger-games.html      2958974.0   \n",
       "1  dir01/2.Harry_Potter_and_the_Order_of_the_Phoe...      1284478.0   \n",
       "2                          dir01/41865.Twilight.html      2579564.0   \n",
       "3              dir01/2657.To_Kill_a_Mockingbird.html      2078123.0   \n",
       "4                dir01/1885.Pride_and_Prejudice.html      1388992.0   \n",
       "\n",
       "                                            Book URL  \n",
       "0  https://www.goodreads.com/author/show/153394.S...  \n",
       "1  https://www.goodreads.com/author/show/1077326....  \n",
       "2  https://www.goodreads.com/author/show/941441.S...  \n",
       "3  https://www.goodreads.com/author/show/1825.Har...  \n",
       "4  https://www.goodreads.com/author/show/1265.Jan...  "
      ]
     },
     "execution_count": 335,
     "metadata": {},
     "output_type": "execute_result"
    }
   ],
   "source": [
    "df.head()"
   ]
  },
  {
   "cell_type": "code",
   "execution_count": 336,
   "metadata": {},
   "outputs": [
    {
     "data": {
      "text/html": [
       "<div>\n",
       "<style scoped>\n",
       "    .dataframe tbody tr th:only-of-type {\n",
       "        vertical-align: middle;\n",
       "    }\n",
       "\n",
       "    .dataframe tbody tr th {\n",
       "        vertical-align: top;\n",
       "    }\n",
       "\n",
       "    .dataframe thead th {\n",
       "        text-align: right;\n",
       "    }\n",
       "</style>\n",
       "<table border=\"1\" class=\"dataframe\">\n",
       "  <thead>\n",
       "    <tr style=\"text-align: right;\">\n",
       "      <th></th>\n",
       "      <th>Rating</th>\n",
       "      <th>Publication Cost</th>\n",
       "      <th>ISBN</th>\n",
       "      <th>Book Title</th>\n",
       "      <th>Year</th>\n",
       "      <th>Genres</th>\n",
       "      <th>Link</th>\n",
       "      <th>Total Revenue</th>\n",
       "      <th>Book URL</th>\n",
       "    </tr>\n",
       "  </thead>\n",
       "  <tbody>\n",
       "    <tr>\n",
       "      <th>5992</th>\n",
       "      <td>4.37</td>\n",
       "      <td>28.0</td>\n",
       "      <td>0393062260</td>\n",
       "      <td>The Book of Psalms</td>\n",
       "      <td>2007</td>\n",
       "      <td>poetry, religion, christian, religion, theolog...</td>\n",
       "      <td>dir60/1251125.The_Book_of_Psalms.html</td>\n",
       "      <td>242.0</td>\n",
       "      <td>https://www.goodreads.com/author/show/62157.Ro...</td>\n",
       "    </tr>\n",
       "    <tr>\n",
       "      <th>5993</th>\n",
       "      <td>4.17</td>\n",
       "      <td>2226.0</td>\n",
       "      <td>0767913736</td>\n",
       "      <td>The River of Doubt</td>\n",
       "      <td>2005</td>\n",
       "      <td>history, non-fiction, biography, adventure, bo...</td>\n",
       "      <td>dir60/78508.The_River_of_Doubt.html</td>\n",
       "      <td>16618.0</td>\n",
       "      <td>https://www.goodreads.com/author/show/44565.Ca...</td>\n",
       "    </tr>\n",
       "    <tr>\n",
       "      <th>5994</th>\n",
       "      <td>3.99</td>\n",
       "      <td>775.0</td>\n",
       "      <td>1416909427</td>\n",
       "      <td>Shug</td>\n",
       "      <td>2006</td>\n",
       "      <td>young-adult, realistic-fiction, romance, conte...</td>\n",
       "      <td>dir60/259068.Shug.html</td>\n",
       "      <td>6179.0</td>\n",
       "      <td>https://www.goodreads.com/author/show/151371.J...</td>\n",
       "    </tr>\n",
       "    <tr>\n",
       "      <th>5995</th>\n",
       "      <td>3.78</td>\n",
       "      <td>540.0</td>\n",
       "      <td>1620612321</td>\n",
       "      <td>Flawed</td>\n",
       "      <td>2012</td>\n",
       "      <td>contemporary, romance, young-adult, sociology,...</td>\n",
       "      <td>dir60/13503247-flawed.html</td>\n",
       "      <td>2971.0</td>\n",
       "      <td>https://www.goodreads.com/author/show/5761314....</td>\n",
       "    </tr>\n",
       "    <tr>\n",
       "      <th>5996</th>\n",
       "      <td>4.35</td>\n",
       "      <td>61.0</td>\n",
       "      <td>0786929081</td>\n",
       "      <td>Legacy of the Drow Collector's Edition (Legacy...</td>\n",
       "      <td>2001</td>\n",
       "      <td>fiction, fantasy, magic, science-fiction-fanta...</td>\n",
       "      <td>dir60/66677.Legacy_of_the_Drow_Collector_s_Edi...</td>\n",
       "      <td>3982.0</td>\n",
       "      <td>https://www.goodreads.com/author/show/1023510....</td>\n",
       "    </tr>\n",
       "  </tbody>\n",
       "</table>\n",
       "</div>"
      ],
      "text/plain": [
       "      Rating  Publication Cost        ISBN  \\\n",
       "5992    4.37              28.0  0393062260   \n",
       "5993    4.17            2226.0  0767913736   \n",
       "5994    3.99             775.0  1416909427   \n",
       "5995    3.78             540.0  1620612321   \n",
       "5996    4.35              61.0  0786929081   \n",
       "\n",
       "                                             Book Title  Year  \\\n",
       "5992                                 The Book of Psalms  2007   \n",
       "5993                                 The River of Doubt  2005   \n",
       "5994                                               Shug  2006   \n",
       "5995                                             Flawed  2012   \n",
       "5996  Legacy of the Drow Collector's Edition (Legacy...  2001   \n",
       "\n",
       "                                                 Genres  \\\n",
       "5992  poetry, religion, christian, religion, theolog...   \n",
       "5993  history, non-fiction, biography, adventure, bo...   \n",
       "5994  young-adult, realistic-fiction, romance, conte...   \n",
       "5995  contemporary, romance, young-adult, sociology,...   \n",
       "5996  fiction, fantasy, magic, science-fiction-fanta...   \n",
       "\n",
       "                                                   Link  Total Revenue  \\\n",
       "5992              dir60/1251125.The_Book_of_Psalms.html          242.0   \n",
       "5993                dir60/78508.The_River_of_Doubt.html        16618.0   \n",
       "5994                             dir60/259068.Shug.html         6179.0   \n",
       "5995                         dir60/13503247-flawed.html         2971.0   \n",
       "5996  dir60/66677.Legacy_of_the_Drow_Collector_s_Edi...         3982.0   \n",
       "\n",
       "                                               Book URL  \n",
       "5992  https://www.goodreads.com/author/show/62157.Ro...  \n",
       "5993  https://www.goodreads.com/author/show/44565.Ca...  \n",
       "5994  https://www.goodreads.com/author/show/151371.J...  \n",
       "5995  https://www.goodreads.com/author/show/5761314....  \n",
       "5996  https://www.goodreads.com/author/show/1023510....  "
      ]
     },
     "execution_count": 336,
     "metadata": {},
     "output_type": "execute_result"
    }
   ],
   "source": [
    "df.tail()"
   ]
  },
  {
   "cell_type": "markdown",
   "metadata": {},
   "source": [
    "# Export to New Cleaned CSV"
   ]
  },
  {
   "cell_type": "code",
   "execution_count": 332,
   "metadata": {},
   "outputs": [],
   "source": [
    "# Exporting the CSV to New Cleaned CSV Data File without indexing\n",
    "df.to_csv('cleaned_book_sample.csv', index=False)"
   ]
  }
 ],
 "metadata": {
  "kernelspec": {
   "display_name": "base",
   "language": "python",
   "name": "python3"
  },
  "language_info": {
   "codemirror_mode": {
    "name": "ipython",
    "version": 3
   },
   "file_extension": ".py",
   "mimetype": "text/x-python",
   "name": "python",
   "nbconvert_exporter": "python",
   "pygments_lexer": "ipython3",
   "version": "3.11.5"
  }
 },
 "nbformat": 4,
 "nbformat_minor": 2
}
